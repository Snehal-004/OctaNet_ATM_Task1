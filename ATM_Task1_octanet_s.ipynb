{
 "cells": [
  {
   "cell_type": "code",
   "execution_count": null,
   "id": "e68e027e-d2e3-4ca6-a601-2301d71ca39c",
   "metadata": {},
   "outputs": [
    {
     "name": "stdout",
     "output_type": "stream",
     "text": [
      "\n",
      "ATM Simulator\n",
      "1. Check Balance\n",
      "2. Deposit Money\n",
      "3. Withdraw Money\n",
      "4. Exit\n"
     ]
    },
    {
     "name": "stdin",
     "output_type": "stream",
     "text": [
      "Choose an option (1-4):  1\n"
     ]
    },
    {
     "name": "stdout",
     "output_type": "stream",
     "text": [
      "Your current balance is: $100.00\n",
      "\n",
      "ATM Simulator\n",
      "1. Check Balance\n",
      "2. Deposit Money\n",
      "3. Withdraw Money\n",
      "4. Exit\n"
     ]
    },
    {
     "name": "stdin",
     "output_type": "stream",
     "text": [
      "Choose an option (1-4):  2\n",
      "Enter amount to deposit:  50\n"
     ]
    },
    {
     "name": "stdout",
     "output_type": "stream",
     "text": [
      "Successfully deposited $50.00.\n",
      "\n",
      "ATM Simulator\n",
      "1. Check Balance\n",
      "2. Deposit Money\n",
      "3. Withdraw Money\n",
      "4. Exit\n"
     ]
    },
    {
     "name": "stdin",
     "output_type": "stream",
     "text": [
      "Choose an option (1-4):  3\n"
     ]
    }
   ],
   "source": [
    "# ATM class to handle basic banking operations\n",
    "class ATM:\n",
    "    def __init__(self, initial_balance=0):\n",
    "        # Initialize the ATM with a given balance\n",
    "        self.balance = initial_balance\n",
    "\n",
    "    def check_balance(self):\n",
    "        # Display the current balance\n",
    "        print(f\"Your current balance is: ${self.balance:.2f}\")\n",
    "\n",
    "    def deposit(self, amount):\n",
    "        # Deposit money if the amount is positive\n",
    "        if amount > 0:\n",
    "            self.balance += amount\n",
    "            print(f\"Successfully deposited ${amount:.2f}.\")\n",
    "        else:\n",
    "            print(\"Invalid deposit amount.\")\n",
    "\n",
    "    def withdraw(self, amount):\n",
    "        # Withdraw money if the amount is positive and less than or equal to the balance\n",
    "        if amount > 0 and amount <= self.balance:\n",
    "            self.balance -= amount\n",
    "            print(f\"Successfully withdrew ${amount:.2f}.\")\n",
    "        elif amount > self.balance:\n",
    "            print(\"Insufficient funds.\")\n",
    "        else:\n",
    "            print(\"Invalid withdrawal amount.\")\n",
    "\n",
    "# Initialize the ATM with a starting balance\n",
    "atm = ATM(initial_balance=100)\n",
    "\n",
    "def display_menu():\n",
    "    # Display the menu options to the user\n",
    "    print(\"\\nATM Simulator\")\n",
    "    print(\"1. Check Balance\")\n",
    "    print(\"2. Deposit Money\")\n",
    "    print(\"3. Withdraw Money\")\n",
    "    print(\"4. Exit\")\n",
    "    return input(\"Choose an option (1-4): \")\n",
    "\n",
    "def handle_choice(choice):\n",
    "    # Execute the user's choice\n",
    "    if choice == '1':\n",
    "        atm.check_balance()\n",
    "    elif choice == '2':\n",
    "        try:\n",
    "            amount = float(input(\"Enter amount to deposit: \"))\n",
    "            atm.deposit(amount)\n",
    "        except ValueError:\n",
    "            print(\"Please enter a valid number.\")\n",
    "    elif choice == '3':\n",
    "        try:\n",
    "            amount = float(input(\"Enter amount to withdraw: \"))\n",
    "            atm.withdraw(amount)\n",
    "        except ValueError:\n",
    "            print(\"Please enter a valid number.\")\n",
    "    elif choice == '4':\n",
    "        # Exit the program\n",
    "        print(\"Thank you for using the ATM. Goodbye!\")\n",
    "        return False\n",
    "    else:\n",
    "        # Handle invalid menu choices\n",
    "        print(\"Invalid choice. Please choose a valid option.\")\n",
    "    return True\n",
    "\n",
    "# Run the ATM program interactively\n",
    "continue_running = True\n",
    "while continue_running:\n",
    "    choice = display_menu()\n",
    "    continue_running = handle_choice(choice)\n"
   ]
  },
  {
   "cell_type": "code",
   "execution_count": null,
   "id": "ade017a7-a483-44bb-badf-f5c135e66925",
   "metadata": {},
   "outputs": [],
   "source": []
  },
  {
   "cell_type": "code",
   "execution_count": null,
   "id": "a3206944-f1cf-4eb9-90d6-4caab884c0e7",
   "metadata": {},
   "outputs": [],
   "source": []
  }
 ],
 "metadata": {
  "kernelspec": {
   "display_name": "Python 3 (ipykernel)",
   "language": "python",
   "name": "python3"
  },
  "language_info": {
   "codemirror_mode": {
    "name": "ipython",
    "version": 3
   },
   "file_extension": ".py",
   "mimetype": "text/x-python",
   "name": "python",
   "nbconvert_exporter": "python",
   "pygments_lexer": "ipython3",
   "version": "3.12.4"
  }
 },
 "nbformat": 4,
 "nbformat_minor": 5
}
